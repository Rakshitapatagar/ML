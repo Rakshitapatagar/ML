{
  "nbformat": 4,
  "nbformat_minor": 0,
  "metadata": {
    "colab": {
      "provenance": [],
      "mount_file_id": "1DiHrHe04V9g2vLAFOdW7wrPJB2BQltfY",
      "authorship_tag": "ABX9TyOtxUAopjt+THYZpbY1Sck1",
      "include_colab_link": true
    },
    "kernelspec": {
      "name": "python3",
      "display_name": "Python 3"
    },
    "language_info": {
      "name": "python"
    }
  },
  "cells": [
    {
      "cell_type": "markdown",
      "metadata": {
        "id": "view-in-github",
        "colab_type": "text"
      },
      "source": [
        "<a href=\"https://colab.research.google.com/github/Rakshitapatagar/ML/blob/main/printnames.ipynb\" target=\"_parent\"><img src=\"https://colab.research.google.com/assets/colab-badge.svg\" alt=\"Open In Colab\"/></a>"
      ]
    },
    {
      "cell_type": "code",
      "execution_count": null,
      "metadata": {
        "id": "gMPfCV2_-omv"
      },
      "outputs": [],
      "source": []
    },
    {
      "cell_type": "markdown",
      "source": [
        "# **My First Program**"
      ],
      "metadata": {
        "id": "-V3Qii0I_IQg"
      }
    },
    {
      "cell_type": "code",
      "source": [
        "print(\"I am Rakshita\")"
      ],
      "metadata": {
        "colab": {
          "base_uri": "https://localhost:8080/"
        },
        "id": "E6swiGx9_efX",
        "outputId": "71ee5494-b92a-4ed7-c7ef-b0b25b3b4c6f"
      },
      "execution_count": null,
      "outputs": [
        {
          "output_type": "stream",
          "name": "stdout",
          "text": [
            "I am Rakshita\n"
          ]
        }
      ]
    },
    {
      "cell_type": "markdown",
      "source": [
        "## ***Variable declaration***"
      ],
      "metadata": {
        "id": "j8crkMQdBP4q"
      }
    },
    {
      "cell_type": "code",
      "source": [
        "\n",
        "import math\n",
        "a=2\n",
        "b=3\n",
        "c=4\n",
        "sum=a+b\n",
        "mul=a*b\n",
        "div=a/b\n",
        "sub=a-b,b-c,c-a\n",
        "sqr=a*a\n",
        "fdiv=b//a\n",
        "mod=a%b\n",
        "q=((a+b)*c)\n",
        "p=math.sqrt(c)\n",
        "print(sum,mul,div,sub,sqr,p,q,mod,fdiv)"
      ],
      "metadata": {
        "colab": {
          "base_uri": "https://localhost:8080/"
        },
        "id": "KWbPANGOBkNd",
        "outputId": "f8c12968-3b60-4e9a-8d6f-5fddb4d62fbf"
      },
      "execution_count": null,
      "outputs": [
        {
          "output_type": "stream",
          "name": "stdout",
          "text": [
            "5 6 0.6666666666666666 (-1, -1, 2) 4 2.0 20 2 1\n"
          ]
        }
      ]
    },
    {
      "cell_type": "markdown",
      "source": [
        "# **DATA TYPES:**"
      ],
      "metadata": {
        "id": "eFCAs0FDFPUs"
      }
    },
    {
      "cell_type": "code",
      "source": [
        "name=\"Rakshita\"\n",
        "print(type(name))"
      ],
      "metadata": {
        "colab": {
          "base_uri": "https://localhost:8080/"
        },
        "id": "yH-Hb-G9BsZW",
        "outputId": "d96bb774-351a-476d-c518-02efe5b0477f"
      },
      "execution_count": null,
      "outputs": [
        {
          "output_type": "stream",
          "name": "stdout",
          "text": [
            "<class 'str'>\n"
          ]
        }
      ]
    },
    {
      "cell_type": "code",
      "source": [
        "name1=\"sru & raksh 123\"\n",
        "print(type(name1))"
      ],
      "metadata": {
        "colab": {
          "base_uri": "https://localhost:8080/"
        },
        "id": "PFZPZBL3FaR4",
        "outputId": "bee2ac40-2878-4431-c231-5091a747f36d"
      },
      "execution_count": null,
      "outputs": [
        {
          "output_type": "stream",
          "name": "stdout",
          "text": [
            "<class 'str'>\n"
          ]
        }
      ]
    },
    {
      "cell_type": "code",
      "source": [
        "num=10\n",
        "num1=10.44\n",
        "num2=3j\n",
        "num3=-22\n",
        "num4=10*2\n",
        "print(type(num))\n",
        "print(type(num1))\n",
        "print(type(num2))\n",
        "print(type(num3))\n",
        "print(type(num4))\n"
      ],
      "metadata": {
        "colab": {
          "base_uri": "https://localhost:8080/"
        },
        "id": "n992TUg8FgqC",
        "outputId": "d5a4def0-6fd8-41df-98ea-7d0219864fc0"
      },
      "execution_count": null,
      "outputs": [
        {
          "output_type": "stream",
          "name": "stdout",
          "text": [
            "<class 'int'>\n",
            "<class 'float'>\n",
            "<class 'complex'>\n",
            "<class 'int'>\n",
            "<class 'int'>\n"
          ]
        }
      ]
    },
    {
      "cell_type": "markdown",
      "source": [
        "# SEQUENCE DATA TYPE:\n",
        "## **1)LIST**"
      ],
      "metadata": {
        "id": "QiOSKuOSKhJf"
      }
    },
    {
      "cell_type": "code",
      "source": [
        "lis=['rakshita','123','patgar']\n",
        "lis1=['sirsi','90','tree','90']\n",
        "type(lis)\n",
        "type(lis1)\n",
        "print(lis)\n",
        "print(lis1)\n",
        "print(len(lis))\n",
        "print(len(lis1))\n",
        "lis3=lis+lis1\n",
        "print(len(lis3))\n",
        "print(lis3)"
      ],
      "metadata": {
        "colab": {
          "base_uri": "https://localhost:8080/"
        },
        "id": "lw0GGbHqIprb",
        "outputId": "e5af1ce4-480b-43ba-86c6-a01a55aca1cd"
      },
      "execution_count": null,
      "outputs": [
        {
          "output_type": "stream",
          "name": "stdout",
          "text": [
            "['rakshita', '123', 'patgar']\n",
            "['sirsi', '90', 'tree', '90']\n",
            "3\n",
            "4\n",
            "7\n",
            "['rakshita', '123', 'patgar', 'sirsi', '90', 'tree', '90']\n"
          ]
        }
      ]
    },
    {
      "cell_type": "code",
      "source": [
        "lis1.append('rak')\n",
        "lis1\n",
        "lis1.clear()\n",
        "lis1\n",
        "lis.sort()\n",
        "lis\n",
        "lis3.sort()\n",
        "lis3"
      ],
      "metadata": {
        "colab": {
          "base_uri": "https://localhost:8080/"
        },
        "id": "ZI3IPOqNM3Ua",
        "outputId": "0ab064f3-2066-4477-a4af-a27e32cbb9e8"
      },
      "execution_count": null,
      "outputs": [
        {
          "output_type": "execute_result",
          "data": {
            "text/plain": [
              "['123', '90', '90', 'patgar', 'rakshita', 'sirsi', 'tree']"
            ]
          },
          "metadata": {},
          "execution_count": 52
        }
      ]
    },
    {
      "cell_type": "markdown",
      "source": [
        " **TUPLE:**"
      ],
      "metadata": {
        "id": "IneSa0rXOzmg"
      }
    },
    {
      "cell_type": "code",
      "source": [
        "tuple=(\"rakshita\",\"sumati\",\"sahana\")\n",
        "print(tuple)\n",
        "print(len(tuple))\n",
        "tuple2=(12,2,2,3)\n",
        "type(tuple2)\n",
        "print(len(tuple2))\n",
        "tup3=tuple+tuple2\n",
        "print(len(tup3))\n",
        "print(tup3)\n",
        "tup4=(\"rak\",1,2,3,True )\n",
        "print(tup4)"
      ],
      "metadata": {
        "id": "JF3Lf52yO5K4",
        "colab": {
          "base_uri": "https://localhost:8080/"
        },
        "outputId": "52856125-c4c7-43d2-94c5-060273b01c3e"
      },
      "execution_count": null,
      "outputs": [
        {
          "output_type": "stream",
          "name": "stdout",
          "text": [
            "('rakshita', 'sumati', 'sahana')\n",
            "3\n",
            "4\n",
            "7\n",
            "('rakshita', 'sumati', 'sahana', 12, 2, 2, 3)\n",
            "('rak', 1, 2, 3, True)\n"
          ]
        }
      ]
    },
    {
      "cell_type": "markdown",
      "source": [
        "* How to access tuples  \n",
        "* Join tuples\n",
        "* Multiply tuples\n",
        "*Index   \n",
        "* count"
      ],
      "metadata": {
        "id": "Iz5FWP-xjVIZ"
      }
    },
    {
      "cell_type": "code",
      "source": [
        "tuple1=(\"sirsi\",\"kumata\",\"haveri\")\n",
        "print(type(tuple1))\n",
        "print(tuple1[1])\n",
        "print(tuple1[2])\n",
        "print(tuple1[0])\n",
        "tuple2=tuple1+tuple1\n",
        "print(tuple2)\n",
        "tuple3=tuple2*2\n",
        "print(tuple3)\n",
        "print(tuple3[5])\n",
        "y= tuple1.index('sirsi')\n",
        "print(y)\n",
        "\n",
        "x=tuple2.count('sirsi')\n",
        "print(x)"
      ],
      "metadata": {
        "colab": {
          "base_uri": "https://localhost:8080/"
        },
        "id": "KcWIfhngj2LW",
        "outputId": "41cebd4d-612b-4f19-924e-f87db158d19a"
      },
      "execution_count": null,
      "outputs": [
        {
          "output_type": "stream",
          "name": "stdout",
          "text": [
            "<class 'tuple'>\n",
            "kumata\n",
            "haveri\n",
            "sirsi\n",
            "('sirsi', 'kumata', 'haveri', 'sirsi', 'kumata', 'haveri')\n",
            "('sirsi', 'kumata', 'haveri', 'sirsi', 'kumata', 'haveri', 'sirsi', 'kumata', 'haveri', 'sirsi', 'kumata', 'haveri')\n",
            "haveri\n",
            "0\n",
            "2\n"
          ]
        }
      ]
    },
    {
      "cell_type": "markdown",
      "source": [],
      "metadata": {
        "id": "idp2SPVDmxdW"
      }
    },
    {
      "cell_type": "markdown",
      "source": [
        "### **TYPE CASTING**"
      ],
      "metadata": {
        "id": "uKXTpDkumxf5"
      }
    },
    {
      "cell_type": "code",
      "source": [
        "m=(\"HUBLI\",\"BAGALKOT\",\"SIRSI\")\n",
        "print(type(m))"
      ],
      "metadata": {
        "colab": {
          "base_uri": "https://localhost:8080/"
        },
        "id": "UvuYGokJm2CC",
        "outputId": "4711cff6-12e7-4269-ebf7-a8a244a94eea"
      },
      "execution_count": null,
      "outputs": [
        {
          "output_type": "stream",
          "name": "stdout",
          "text": [
            "<class 'tuple'>\n"
          ]
        }
      ]
    },
    {
      "cell_type": "code",
      "source": [
        "y=list(m)\n",
        "y.append(\"suma\")\n",
        "y[3]=\"sru\"\n",
        "m=tuple(y)\n",
        "print(m)\n",
        "print(m[1])"
      ],
      "metadata": {
        "id": "eQSHkC42oUgo",
        "colab": {
          "base_uri": "https://localhost:8080/"
        },
        "outputId": "6bcc181d-da84-4acb-919a-8e0106125d5b"
      },
      "execution_count": null,
      "outputs": [
        {
          "output_type": "stream",
          "name": "stdout",
          "text": [
            "('HUBLI', 'BAGALKOT', 'mubai', 'sru', 'suma')\n",
            "BAGALKOT\n"
          ]
        }
      ]
    },
    {
      "cell_type": "markdown",
      "source": [],
      "metadata": {
        "id": "2JOS74-OUtr4"
      }
    },
    {
      "cell_type": "markdown",
      "source": [
        "# SETS\n",
        "* unordered\n",
        "* unchangeable\n",
        "* duplicates not allowed  "
      ],
      "metadata": {
        "id": "7aKYa73uUt3d"
      }
    },
    {
      "cell_type": "code",
      "source": [
        "set1={\"red\",\"pink\",\"blue\",\"red\"}\n",
        "print(set1)\n",
        "set1.add(\"yellow\")\n",
        "print(set1)\n",
        "print(type(set1))\n",
        "set2={\"ball\",\"bat\",\"wicket\"}\n",
        "set1.update(set2)\n",
        "print(set1)"
      ],
      "metadata": {
        "colab": {
          "base_uri": "https://localhost:8080/"
        },
        "id": "Yxy6RJxKUJAy",
        "outputId": "52346232-9583-47d0-beea-bb6101c79b6d"
      },
      "execution_count": null,
      "outputs": [
        {
          "output_type": "stream",
          "name": "stdout",
          "text": [
            "{'red', 'blue', 'pink'}\n",
            "{'yellow', 'red', 'blue', 'pink'}\n",
            "<class 'set'>\n",
            "{'yellow', 'red', 'bat', 'wicket', 'pink', 'ball', 'blue'}\n"
          ]
        }
      ]
    },
    {
      "cell_type": "code",
      "source": [],
      "metadata": {
        "id": "MIqCNsaaWaS_"
      },
      "execution_count": null,
      "outputs": []
    },
    {
      "cell_type": "markdown",
      "source": [
        "# **DICTIONARY**"
      ],
      "metadata": {
        "id": "4FSiTc5rWbUN"
      }
    },
    {
      "cell_type": "code",
      "source": [
        "Dict1={\"Name\":\"Rakshita\",\n",
        "       \"Age\":\"20\",\n",
        "       \"Gender\":\"Female\",\"Year\":\"2003\",\"Year\":\"2023\"}\n",
        "print(type(Dict1))\n",
        "print(Dict1)"
      ],
      "metadata": {
        "colab": {
          "base_uri": "https://localhost:8080/"
        },
        "id": "fLRCT5ktWhnw",
        "outputId": "9ec2c26f-0987-4d77-e163-db51f17901f3"
      },
      "execution_count": null,
      "outputs": [
        {
          "output_type": "stream",
          "name": "stdout",
          "text": [
            "<class 'dict'>\n",
            "{'Name': 'Rakshita', 'Age': '20', 'Gender': 'Female', 'Year': '2023'}\n"
          ]
        }
      ]
    },
    {
      "cell_type": "code",
      "source": [
        "dict2=dict(fruit=\"banana\",desert=\"ice-cream\")\n",
        "print(dict2)\n",
        "print(type(dict2))"
      ],
      "metadata": {
        "colab": {
          "base_uri": "https://localhost:8080/"
        },
        "id": "kBdUgo6zXOib",
        "outputId": "20c061c4-16e8-4e20-e74f-f010e0f7f729"
      },
      "execution_count": null,
      "outputs": [
        {
          "output_type": "stream",
          "name": "stdout",
          "text": [
            "{'fruit': 'banana', 'desert': 'ice-cream'}\n",
            "<class 'dict'>\n"
          ]
        }
      ]
    },
    {
      "cell_type": "markdown",
      "source": [
        "# **Conditional statements and looping statements**"
      ],
      "metadata": {
        "id": "mnmO-MX1XtoQ"
      }
    },
    {
      "cell_type": "code",
      "source": [
        "a=input(\"enter the value of a\")\n",
        "b=input(\"enter the value of b\")\n",
        "print(a)\n",
        "print(b)\n"
      ],
      "metadata": {
        "colab": {
          "base_uri": "https://localhost:8080/"
        },
        "id": "B9SzJT5NXzW6",
        "outputId": "8c49f3f5-4724-4255-d3fe-14f7cb1d805d"
      },
      "execution_count": null,
      "outputs": [
        {
          "output_type": "stream",
          "name": "stdout",
          "text": [
            "enter the value of a2\n",
            "enter the value of b4\n",
            "2\n",
            "4\n"
          ]
        }
      ]
    },
    {
      "cell_type": "code",
      "source": [
        "if a>b:\n",
        "  print(\"the value of a greater than b\")\n",
        "#if a==b:\n",
        " # print(\"both a and b are same\")\n",
        "else:\n",
        " print('HELLO')"
      ],
      "metadata": {
        "colab": {
          "base_uri": "https://localhost:8080/"
        },
        "id": "sja1uRV0YJgj",
        "outputId": "5a683a09-8594-4db3-f048-2c3481e59d01"
      },
      "execution_count": null,
      "outputs": [
        {
          "output_type": "stream",
          "name": "stdout",
          "text": [
            "HELLO\n"
          ]
        }
      ]
    },
    {
      "cell_type": "code",
      "source": [
        "ball1_color=\"green\"\n",
        "ball2_color=\"blue\"\n",
        "ball3_color=\"white\"\n",
        "ball4_color=\"pink\"\n",
        "\n",
        "pick_ball=input(\"please pick a ball\")\n",
        "if pick_ball==ball1_color:\n",
        "  print(\"green ball picked\")\n",
        "elif pick_ball==ball2_color:\n",
        "  print(\"blue ball picked\")\n",
        "elif pick_ball==ball3_color:\n",
        "    print(\"white ball picked\")\n",
        "else:\n",
        "  print(\"picked ball is pink\")"
      ],
      "metadata": {
        "colab": {
          "base_uri": "https://localhost:8080/"
        },
        "id": "KaH1WQlHZLUr",
        "outputId": "21bce3ba-15c4-42da-d532-bdfb10adac37"
      },
      "execution_count": null,
      "outputs": [
        {
          "output_type": "stream",
          "name": "stdout",
          "text": [
            "please pick a ballgreen\n",
            "green ball picked\n"
          ]
        }
      ]
    },
    {
      "cell_type": "markdown",
      "source": [
        "# **Python Operators**"
      ],
      "metadata": {
        "id": "nlltWKQWqxE2"
      }
    },
    {
      "cell_type": "code",
      "source": [
        "#Arithematic Operation\n",
        "x=12\n",
        "y=10\n",
        "sum=x+y\n",
        "dif=x-y\n",
        "prod=x*y\n",
        "div=x/y\n",
        "fdiv=x//y\n",
        "mod=x%y\n",
        "power=x**y\n",
        "print(sum)\n",
        "print(dif)\n",
        "print(prod)\n",
        "print(div)\n",
        "print(fdiv)\n",
        "print(mod)\n",
        "print(power)"
      ],
      "metadata": {
        "id": "-KUnlrq4adbY",
        "colab": {
          "base_uri": "https://localhost:8080/"
        },
        "outputId": "39e3828a-4046-4893-a804-332ad7a00930"
      },
      "execution_count": null,
      "outputs": [
        {
          "output_type": "stream",
          "name": "stdout",
          "text": [
            "22\n",
            "2\n",
            "120\n",
            "1.2\n",
            "1\n",
            "2\n",
            "61917364224\n"
          ]
        }
      ]
    },
    {
      "cell_type": "code",
      "source": [
        "#Logical Operators\n",
        "age=int(input(\"enter the age\"))\n",
        "print(age>18 and age<60)\n",
        "print(age>18 or age<21)"
      ],
      "metadata": {
        "colab": {
          "base_uri": "https://localhost:8080/"
        },
        "id": "xWf4q7OEsU_Z",
        "outputId": "000165fa-3ad7-41c0-e271-f0b9c92b8b32"
      },
      "execution_count": null,
      "outputs": [
        {
          "output_type": "stream",
          "name": "stdout",
          "text": [
            "enter the age44\n",
            "True\n",
            "True\n"
          ]
        }
      ]
    },
    {
      "cell_type": "code",
      "source": [
        "f1=\"banana\"\n",
        "f2=\"apple\"\n",
        "f3=\"orange\"\n",
        "Type=str(input(\"name of the fruit\"))\n",
        "Fruits=int((input(\"enter the number of fruits sold\")))\n",
        "if Type==f1:\n",
        "  print(\"banana is sold\")\n",
        "elif Type==f2:\n",
        "  print(\"apple is sold\")\n",
        "elif Type==f3:\n",
        " print(\"orange is sold\")\n",
        "else :\n",
        " print(\"nothing is sold\")\n",
        "print(Fruits>20 and Fruits<100)\n",
        "print(Fruits!=10 and Fruits>11)\n"
      ],
      "metadata": {
        "colab": {
          "base_uri": "https://localhost:8080/"
        },
        "id": "kqEcc1CwvHjc",
        "outputId": "4f74bae0-5c54-47a7-e1e0-cd2e2018c238"
      },
      "execution_count": null,
      "outputs": [
        {
          "output_type": "stream",
          "name": "stdout",
          "text": [
            "name of the fruitbanana\n",
            "enter the number of fruits sold19\n",
            "banana is sold\n",
            "False\n",
            "True\n"
          ]
        }
      ]
    },
    {
      "cell_type": "markdown",
      "source": [
        "# **Bitwise Operators**"
      ],
      "metadata": {
        "id": "vUYEBwvYyRIQ"
      }
    },
    {
      "cell_type": "code",
      "source": [
        "print(8 & 12)\n",
        "print(0xf & 0xe)"
      ],
      "metadata": {
        "colab": {
          "base_uri": "https://localhost:8080/"
        },
        "id": "18cPTdrNyVJf",
        "outputId": "11bcbd47-5d48-4c55-9b3c-b23cdfbddd22"
      },
      "execution_count": null,
      "outputs": [
        {
          "output_type": "stream",
          "name": "stdout",
          "text": [
            "8\n",
            "14\n"
          ]
        }
      ]
    },
    {
      "cell_type": "code",
      "source": [
        "print(8|12)\n",
        "print(0xf | 0xe)"
      ],
      "metadata": {
        "colab": {
          "base_uri": "https://localhost:8080/"
        },
        "id": "Oi8ldJU22mOj",
        "outputId": "522e1456-4475-4919-a310-8cc7b5301edd"
      },
      "execution_count": null,
      "outputs": [
        {
          "output_type": "stream",
          "name": "stdout",
          "text": [
            "12\n",
            "15\n"
          ]
        }
      ]
    },
    {
      "cell_type": "code",
      "source": [
        "print(8^12)\n",
        "print(0xf ^ 0xe)"
      ],
      "metadata": {
        "colab": {
          "base_uri": "https://localhost:8080/"
        },
        "id": "0_tsy6G62tww",
        "outputId": "e274d54c-b865-42b4-84f3-ed95a1fe406e"
      },
      "execution_count": null,
      "outputs": [
        {
          "output_type": "stream",
          "name": "stdout",
          "text": [
            "4\n",
            "1\n"
          ]
        }
      ]
    },
    {
      "cell_type": "code",
      "source": [
        "print(~8)\n",
        "print(8>>1)\n",
        "print(8>>4)\n",
        "print(8<<1)"
      ],
      "metadata": {
        "colab": {
          "base_uri": "https://localhost:8080/"
        },
        "id": "6lurBtde23zR",
        "outputId": "ac8faadc-7626-4308-c947-7b3ccb8c3d4f"
      },
      "execution_count": null,
      "outputs": [
        {
          "output_type": "stream",
          "name": "stdout",
          "text": [
            "-9\n",
            "4\n",
            "0\n",
            "16\n"
          ]
        }
      ]
    },
    {
      "cell_type": "markdown",
      "source": [
        "# **Assignment Operators**"
      ],
      "metadata": {
        "id": "3EcGClUH3z2Q"
      }
    },
    {
      "cell_type": "code",
      "source": [
        "a=100\n",
        "print(a)\n",
        "a+=3\n",
        "print(a)\n",
        "a-=6\n",
        "print(a)\n",
        "a*=2\n",
        "print(a)\n",
        "a/=2\n",
        "print(a)\n",
        "a%=3\n",
        "print(a)\n",
        "a//=6\n",
        "print(a)\n",
        "a**=2\n",
        "print(a)\n"
      ],
      "metadata": {
        "colab": {
          "base_uri": "https://localhost:8080/"
        },
        "id": "mpEhvWH435v2",
        "outputId": "0b4852c9-a322-4172-bf0f-3bf58e99ea82"
      },
      "execution_count": null,
      "outputs": [
        {
          "output_type": "stream",
          "name": "stdout",
          "text": [
            "100\n",
            "103\n",
            "97\n",
            "194\n",
            "97.0\n",
            "1.0\n",
            "0.0\n",
            "0.0\n"
          ]
        }
      ]
    },
    {
      "cell_type": "code",
      "source": [
        "a=8\n",
        "a&=5\n",
        "print(a)\n",
        "a|=2\n",
        "print(a)\n",
        "a>>=1\n",
        "print(a)\n",
        "a<<=1\n",
        "print(a)\n",
        "a^=2\n",
        "print(a)"
      ],
      "metadata": {
        "colab": {
          "base_uri": "https://localhost:8080/"
        },
        "id": "zOyXr4Jn7f0G",
        "outputId": "ff2a14f1-e583-4466-b33a-14c247cd4c51"
      },
      "execution_count": null,
      "outputs": [
        {
          "output_type": "stream",
          "name": "stdout",
          "text": [
            "0\n",
            "2\n",
            "1\n",
            "2\n",
            "0\n"
          ]
        }
      ]
    },
    {
      "cell_type": "markdown",
      "source": [],
      "metadata": {
        "id": "hlCF4Ut59SWs"
      }
    },
    {
      "cell_type": "markdown",
      "source": [
        "# **Identity & membership operator**"
      ],
      "metadata": {
        "id": "FNTdNGQU9SY_"
      }
    },
    {
      "cell_type": "code",
      "source": [
        "x=[\"Hubli\",\"belgum\"]\n",
        "y=[\"Hubli\",\"belgum\"]\n",
        "z=x\n",
        "z=y\n",
        "print(z is not x)\n",
        "print(y is x)\n",
        "print(y is z)\n",
        "print(\"Hubli\" in x)\n",
        "print(\"Belgum\" in y)"
      ],
      "metadata": {
        "colab": {
          "base_uri": "https://localhost:8080/"
        },
        "id": "pNPoK_x29aE8",
        "outputId": "cc710a1f-c9c9-4ca2-ec2e-ba3818e7fbdc"
      },
      "execution_count": null,
      "outputs": [
        {
          "output_type": "stream",
          "name": "stdout",
          "text": [
            "True\n",
            "False\n",
            "True\n",
            "True\n",
            "False\n"
          ]
        }
      ]
    },
    {
      "cell_type": "markdown",
      "source": [
        "**while loop**"
      ],
      "metadata": {
        "id": "ax730voe-X2e"
      }
    },
    {
      "cell_type": "code",
      "source": [
        "num=int(input(\"enter the number\"))\n",
        "while num<=9:\n",
        " print(\"number is single digit\")\n",
        " break\n",
        "while num>9 and num<=99:\n",
        "  print(\"number is double digit\")\n",
        "  break\n",
        "else:\n",
        "  print(\"number has more that two digit\")\n"
      ],
      "metadata": {
        "colab": {
          "base_uri": "https://localhost:8080/"
        },
        "id": "SvF3_Wub9pVy",
        "outputId": "fc017eeb-83a4-4f39-b30c-a01865299314"
      },
      "execution_count": null,
      "outputs": [
        {
          "output_type": "stream",
          "name": "stdout",
          "text": [
            "enter the number4\n",
            "number is single digit\n",
            "number has more that two digit\n"
          ]
        }
      ]
    },
    {
      "cell_type": "markdown",
      "source": [
        "**For loop**"
      ],
      "metadata": {
        "id": "nScCEggP_2ZM"
      }
    },
    {
      "cell_type": "code",
      "source": [
        "for x in range(1,9,2):\n",
        "  print(\"single digit number\")\n",
        "for x in range(0,99, 11):\n",
        "  print(\"double digit number\")"
      ],
      "metadata": {
        "colab": {
          "base_uri": "https://localhost:8080/"
        },
        "id": "vJZGR8Mm_4s3",
        "outputId": "d15c4e02-2f10-4095-f119-4134b4adaf26"
      },
      "execution_count": null,
      "outputs": [
        {
          "output_type": "stream",
          "name": "stdout",
          "text": [
            "single digit number\n",
            "single digit number\n",
            "single digit number\n",
            "single digit number\n",
            "double digit number\n",
            "double digit number\n",
            "double digit number\n",
            "double digit number\n",
            "double digit number\n",
            "double digit number\n",
            "double digit number\n",
            "double digit number\n",
            "double digit number\n"
          ]
        }
      ]
    },
    {
      "cell_type": "code",
      "source": [
        "places=[\"Hubli\",\"haveri\",\"Sirsi\",\"hosur\"]\n",
        "for x in places:\n",
        "  print(x)\n",
        "  if x==\"hosur\":\n",
        "    print(\"found\")\n",
        "    break\n"
      ],
      "metadata": {
        "colab": {
          "base_uri": "https://localhost:8080/"
        },
        "id": "zxD6egIYA2MW",
        "outputId": "ac0dd3bb-7c17-4f10-b369-a0939e4a02bc"
      },
      "execution_count": null,
      "outputs": [
        {
          "output_type": "stream",
          "name": "stdout",
          "text": [
            "Hubli\n",
            "haveri\n",
            "Sirsi\n",
            "hosur\n",
            "found\n"
          ]
        }
      ]
    },
    {
      "cell_type": "markdown",
      "source": [
        "# **Function,Modules and packages**"
      ],
      "metadata": {
        "id": "VrTx3rvbm-6D"
      }
    },
    {
      "cell_type": "code",
      "source": [
        "def cake_bakery(p,f,w):\n",
        "  print(\"no of pieces=\",p)\n",
        "  print(\"flavour=\",f)\n",
        "  print(\"wight of the cake=\",w)\n",
        "\n",
        "cake_bakery(\"100\",\"mango\",\"1\")"
      ],
      "metadata": {
        "id": "kIYuS8iKmXmD",
        "colab": {
          "base_uri": "https://localhost:8080/"
        },
        "outputId": "824a67fb-c8fa-4451-978b-fce8b0be6851"
      },
      "execution_count": null,
      "outputs": [
        {
          "output_type": "stream",
          "name": "stdout",
          "text": [
            "no of pieces= 100\n",
            "flavour= mango\n",
            "wight of the cake= 1\n"
          ]
        }
      ]
    },
    {
      "cell_type": "code",
      "source": [
        "def add(*args):\n",
        "  sum=0\n",
        "  for i in args:\n",
        "    sum+=i\n",
        "  return sum\n",
        "print(add(1,2,3))\n"
      ],
      "metadata": {
        "colab": {
          "base_uri": "https://localhost:8080/"
        },
        "id": "HULJrli3qSeC",
        "outputId": "e772a3e4-f4c0-4327-a5b5-c6b659c93e0d"
      },
      "execution_count": null,
      "outputs": [
        {
          "output_type": "stream",
          "name": "stdout",
          "text": [
            "6\n"
          ]
        }
      ]
    },
    {
      "cell_type": "code",
      "source": [
        "def student_details(**kwargs):\n",
        "  print(\"hello\",end=\" \")\n",
        "  for key,value in kwargs.items():\n",
        "    print(value,end=\" \")\n",
        "student_details(name=\"rakshita\",usn=\"01fe21bec233\",dept=\"ece\")"
      ],
      "metadata": {
        "colab": {
          "base_uri": "https://localhost:8080/"
        },
        "id": "w4EZpwLLroqC",
        "outputId": "baab8f45-ab15-4381-aa72-b354d2feed5f"
      },
      "execution_count": null,
      "outputs": [
        {
          "output_type": "stream",
          "name": "stdout",
          "text": [
            "hello rakshita 01fe21bec233 ece "
          ]
        }
      ]
    },
    {
      "cell_type": "code",
      "source": [
        "import random\n",
        "x=random.randint(1,10)\n",
        "print(x)\n",
        "a=random.random()\n",
        "print(a)"
      ],
      "metadata": {
        "colab": {
          "base_uri": "https://localhost:8080/"
        },
        "id": "inAkg5blt8VT",
        "outputId": "8c840786-f8b2-4578-fe42-eaed997300ff"
      },
      "execution_count": null,
      "outputs": [
        {
          "output_type": "stream",
          "name": "stdout",
          "text": [
            "8\n",
            "0.9833819893402571\n"
          ]
        }
      ]
    },
    {
      "cell_type": "code",
      "source": [
        "import random\n",
        "c=0\n",
        "a=0\n",
        "for x in range(1,10):\n",
        "  computer=random.randint(1,10)\n",
        "  user_input=int(input(\"enter the number between 1 to 10\"))\n",
        "  print(computer)\n",
        "  print(user_input)\n",
        "  if computer>user_input:\n",
        "   print(\"computer won\")\n",
        "   c+=1\n",
        "   print(c)\n",
        "   print(a)\n",
        "  elif computer==user_input:\n",
        "   print(\"Tie\")\n",
        "  else:\n",
        "    print(\"You won\")\n",
        "    a+=1\n",
        "    print(c)\n",
        "    print(a)\n",
        "print(\"comp score= \",c)\n",
        "print(\"user score= \",a)\n",
        "if c>a:\n",
        "    print(\"computer won\")\n",
        "elif c<a:\n",
        "    print(\"user won\")\n",
        "else:\n",
        "    print(\"tie\")\n"
      ],
      "metadata": {
        "colab": {
          "base_uri": "https://localhost:8080/"
        },
        "id": "ETavJ21QvMbl",
        "outputId": "8639333b-491f-4205-db9e-b02029404bbb"
      },
      "execution_count": null,
      "outputs": [
        {
          "output_type": "stream",
          "name": "stdout",
          "text": [
            "enter the number between 1 to 10 2\n",
            "3\n",
            "2\n",
            "computer won\n",
            "1\n",
            "0\n",
            "enter the number between 1 to 101\n",
            "4\n",
            "1\n",
            "computer won\n",
            "2\n",
            "0\n",
            "enter the number between 1 to 104\n",
            "2\n",
            "4\n",
            "You won\n",
            "2\n",
            "1\n",
            "enter the number between 1 to 106\n",
            "9\n",
            "6\n",
            "computer won\n",
            "3\n",
            "1\n",
            "enter the number between 1 to 107\n",
            "9\n",
            "7\n",
            "computer won\n",
            "4\n",
            "1\n",
            "enter the number between 1 to 10 4\n",
            "1\n",
            "4\n",
            "You won\n",
            "4\n",
            "2\n",
            "enter the number between 1 to 109\n",
            "5\n",
            "9\n",
            "You won\n",
            "4\n",
            "3\n",
            "enter the number between 1 to 10 7\n",
            "3\n",
            "7\n",
            "You won\n",
            "4\n",
            "4\n",
            "enter the number between 1 to 10 7\n",
            "4\n",
            "7\n",
            "You won\n",
            "4\n",
            "5\n",
            "comp score=  4\n",
            "user score=  5\n",
            "user won\n"
          ]
        }
      ]
    },
    {
      "cell_type": "code",
      "source": [
        "import random\n",
        "gamelist=[\"rock\",\"paper\",\"scissors\"]\n",
        "comp=random.choice(gamelist)\n",
        "user=input(\" enter the choice  \")\n",
        "print(comp)\n",
        "print(user)\n",
        "if (comp==\"rock\" and user==\"paper\"):\n",
        " print(\"user won\")\n",
        "elif (comp==\"paper\" and user==\"scissor\"):\n",
        " print(\"user won\")\n",
        "elif (comp==\"paper\" and user==\"rock\"):\n",
        " print(\"comp won\")\n",
        "else:\n",
        "  print(\"tie\")"
      ],
      "metadata": {
        "colab": {
          "base_uri": "https://localhost:8080/"
        },
        "id": "Vwwgcm4Zz7Z6",
        "outputId": "3b94acb3-e52f-4614-8942-da8878023e89"
      },
      "execution_count": null,
      "outputs": [
        {
          "output_type": "stream",
          "name": "stdout",
          "text": [
            " enter the choice  rock\n",
            "scissors\n",
            "rock\n",
            "tie\n"
          ]
        }
      ]
    },
    {
      "cell_type": "code",
      "source": [
        "import numpy as np\n",
        "a=np.array([2,4,3,2,8,0,10])\n",
        "print(a)\n",
        "b=np.zeros(6)\n",
        "c=np.ones(3)\n",
        "print(b)\n",
        "print(c)\n",
        "d=np.sort(a)\n",
        "print(d)"
      ],
      "metadata": {
        "colab": {
          "base_uri": "https://localhost:8080/"
        },
        "id": "g6HARuJ87ViT",
        "outputId": "91392cfd-06a2-4fcd-bd64-a584b86f2119"
      },
      "execution_count": null,
      "outputs": [
        {
          "output_type": "stream",
          "name": "stdout",
          "text": [
            "[ 2  4  3  2  8  0 10]\n",
            "[0. 0. 0. 0. 0. 0.]\n",
            "[1. 1. 1.]\n",
            "[ 0  2  2  3  4  8 10]\n"
          ]
        }
      ]
    },
    {
      "cell_type": "code",
      "source": [
        "import matplotlib\n",
        "print(matplotlib.__version__)"
      ],
      "metadata": {
        "colab": {
          "base_uri": "https://localhost:8080/"
        },
        "id": "-X_Yeb5o-a5e",
        "outputId": "cb90c68c-1f50-4c02-c9af-e5d0f9572d4c"
      },
      "execution_count": null,
      "outputs": [
        {
          "output_type": "stream",
          "name": "stdout",
          "text": [
            "3.7.1\n"
          ]
        }
      ]
    },
    {
      "cell_type": "code",
      "source": [
        "import matplotlib.pyplot as plt\n",
        "import numpy as np\n",
        "x=np.linspace(0,1,10)\n",
        "m=25\n",
        "c=250\n",
        "y=m*x+c\n",
        "plt.plot(x,linestyle='dotted')\n",
        "plt.show()"
      ],
      "metadata": {
        "colab": {
          "base_uri": "https://localhost:8080/",
          "height": 430
        },
        "id": "JO4If-LGlH5L",
        "outputId": "4389d1a2-ddbb-4734-9a63-1225e97fbcea"
      },
      "execution_count": null,
      "outputs": [
        {
          "output_type": "display_data",
          "data": {
            "text/plain": [
              "<Figure size 640x480 with 1 Axes>"
            ],
            "image/png": "[encoded data removed]"
          },
          "metadata": {}
        }
      ]
    },
    {
      "cell_type": "code",
      "source": [
        "import numpy as np\n",
        "import matplotlib.pyplot as plt\n",
        "\n",
        "x= np.linspace(0,10,100)\n",
        "y= 4+2*np.sin(2*x)\n",
        "\n",
        "fig, a= plt.subplots()\n",
        "\n",
        "a.plot(x, y,linewidth=2.0)\n",
        "\n",
        "a.set(xlim=(0, 8), xticks=np.arange(1,8),\n",
        "      ylim=(0,8),yticks=np.arange(1,8))\n",
        "\n",
        "plt.show()"
      ],
      "metadata": {
        "colab": {
          "base_uri": "https://localhost:8080/",
          "height": 430
        },
        "id": "4YR7JapVl8u2",
        "outputId": "f8b20c88-e166-44a5-c213-5ce810975a56"
      },
      "execution_count": null,
      "outputs": [
        {
          "output_type": "display_data",
          "data": {
            "text/plain": [
              "<Figure size 640x480 with 1 Axes>"
            ],
            "image/png": "[encoded data removed]"
          },
          "metadata": {}
        }
      ]
    },
    {
      "cell_type": "code",
      "source": [
        "import numpy as np\n",
        "import matplotlib.pyplot as plt\n",
        "temp=np.array([10,20,30,40,50,60,70])\n",
        "resist=np.array([18220,12430,10370,1630,1546,1257,1163])\n",
        "plt.title(\"thermister graph\")\n",
        "plt.xlabel(\"temp\")\n",
        "plt.ylabel(\"resi\")\n",
        "plt.scatter(temp,resist)\n",
        "plt.grid()\n",
        "plt.show()\n"
      ],
      "metadata": {
        "colab": {
          "base_uri": "https://localhost:8080/",
          "height": 472
        },
        "id": "Y_-PmYV4FAik",
        "outputId": "757689d5-c31f-4009-aff7-f97f91736635"
      },
      "execution_count": null,
      "outputs": [
        {
          "output_type": "display_data",
          "data": {
            "text/plain": [
              "<Figure size 640x480 with 1 Axes>"
            ],
            "image/png": "[encoded data removed]"
          },
          "metadata": {}
        }
      ]
    },
    {
      "cell_type": "code",
      "source": [
        "import matplotlib.pyplot as plt\n",
        "import numpy as np\n",
        "x=np.linspace(0,1,10)\n",
        "m=25\n",
        "c=250\n",
        "y=m*x+c\n",
        "plt.plot(x,marker='*')\n",
        "plt.show()"
      ],
      "metadata": {
        "colab": {
          "base_uri": "https://localhost:8080/",
          "height": 430
        },
        "id": "XQD3WboRH1A-",
        "outputId": "b71b4d02-de3c-468d-c79c-52a2cc62bca8"
      },
      "execution_count": null,
      "outputs": [
        {
          "output_type": "display_data",
          "data": {
            "text/plain": [
              "<Figure size 640x480 with 1 Axes>"
            ],
            "image/png": "[encoded data removed]"
          },
          "metadata": {}
        }
      ]
    },
    {
      "cell_type": "code",
      "source": [
        "import numpy as np\n",
        "import matplotlib.pyplot as plt\n",
        "x=np.array([\"karnata\",\"up\",\"maharashtra\",\"tamilnadu\"])\n",
        "y=np.array([50,71,91,25])\n",
        "plt.bar(x,y)\n",
        "plt.show()\n",
        "plt.pie(y)\n",
        "plt.show()"
      ],
      "metadata": {
        "colab": {
          "base_uri": "https://localhost:8080/",
          "height": 819
        },
        "id": "zZuf-sRZJKZE",
        "outputId": "097cebf3-1124-42a8-c19c-a9c16f3a918e"
      },
      "execution_count": null,
      "outputs": [
        {
          "output_type": "display_data",
          "data": {
            "text/plain": [
              "<Figure size 640x480 with 1 Axes>"
            ],
            "image/png": "[encoded data removed]"
          },
          "metadata": {}
        },
        {
          "output_type": "display_data",
          "data": {
            "text/plain": [
              "<Figure size 640x480 with 1 Axes>"
            ],
            "image/png": "[encoded data removed]"
          },
          "metadata": {}
        }
      ]
    },
    {
      "cell_type": "code",
      "source": [
        "import numpy as np\n",
        "import matplotlib.pyplot as plt\n",
        "x=np.random.normal(5, 1, 10000)\n",
        "plt.hist(x,1000)\n",
        "plt.show()"
      ],
      "metadata": {
        "colab": {
          "base_uri": "https://localhost:8080/",
          "height": 430
        },
        "id": "OkNW97LXK1UU",
        "outputId": "76716655-a954-48a1-f03d-a94e97db25b9"
      },
      "execution_count": null,
      "outputs": [
        {
          "output_type": "display_data",
          "data": {
            "text/plain": [
              "<Figure size 640x480 with 1 Axes>"
            ],
            "image/png": "[encoded data removed]"
          },
          "metadata": {}
        }
      ]
    },
    {
      "cell_type": "code",
      "source": [
        "import pandas as pd\n",
        "print(pd.__version__)"
      ],
      "metadata": {
        "colab": {
          "base_uri": "https://localhost:8080/"
        },
        "id": "tjI9PzkTLL7y",
        "outputId": "12d2e3e3-2d33-4c90-f81f-46580173fc78"
      },
      "execution_count": null,
      "outputs": [
        {
          "output_type": "stream",
          "name": "stdout",
          "text": [
            "1.5.3\n"
          ]
        }
      ]
    },
    {
      "cell_type": "code",
      "source": [
        "import pandas as pd\n",
        "data=pd.read_csv(\"/content/drive/MyDrive/iris.csv\")\n",
        "print(data.head())\n",
        "data.plot()\n",
        "plot.show"
      ],
      "metadata": {
        "colab": {
          "base_uri": "https://localhost:8080/"
        },
        "id": "daIh0UFCNmeX",
        "outputId": "16e39f70-a834-4de8-fe2e-43707052be0c"
      },
      "execution_count": null,
      "outputs": [
        {
          "output_type": "stream",
          "name": "stdout",
          "text": [
            "   Sepal.Length  Sepal.Width  Petal.Length  Petal.Width Species\n",
            "0           5.1          3.5           1.4          0.2  setosa\n",
            "1           4.9          3.0           1.4          0.2  setosa\n",
            "2           4.7          3.2           1.3          0.2  setosa\n",
            "3           4.6          3.1           1.5          0.2  setosa\n",
            "4           5.0          3.6           1.4          0.2  setosa\n"
          ]
        }
      ]
    },
    {
      "cell_type": "code",
      "source": [
        "import pandas as pd\n",
        "import matplotlib.pyplot as plt\n",
        "import numpy as np\n",
        "data=pd.read_csv(\"/content/drive/MyDrive/mean_mode_median.csv\")\n",
        "print(data.head())\n",
        "mean1=data[\"maths\"].mean()\n",
        "print(\"maths mean =\",mean1)\n",
        "mode1=data[\"maths\"].max()\n",
        "print(\"maths mode =\",mode1)\n",
        "median1=data[\"maths\"].median()\n",
        "print(\"maths median =\",median1)\n",
        "mean2=data[\"english\"].mean()\n",
        "print(\"english mean =\",mean2)\n",
        "mode2=data[\"english\"].max()\n",
        "print(\"english mode =\",mode2)\n",
        "median2=data[\"english\"].median()\n",
        "print(\"english median =\",median2)\n",
        "mean3=data[\"science\"].mean()\n",
        "print(\"science mean =\",mean3)\n",
        "mode3=data[\"science\"].max()\n",
        "print(\"science mode =\",mode3)\n",
        "median3=data[\"science\"].median()\n",
        "print(\"science median =\",median3)\n",
        "mean4=data[\"social\"].mean()\n",
        "print(\"social mean =\",mean4)\n",
        "mode4=data[\"social\"].max()\n",
        "print(\"social mode =\",mode4)\n",
        "median4=data[\"social\"].median()\n",
        "print(\"social median =\",median4)\n",
        "mean5=data[\"kannada\"].mean()\n",
        "print(\"kannada mean =\",mean5)\n",
        "mode5=data[\"kannada\"].max()\n",
        "print(\"kannada mode =\",mode5)\n",
        "median5=data[\"kannada\"].median()\n",
        "print(\"kannada median =\",median5)\n",
        "mean6=data[\"hindi\"].mean()\n",
        "print(\"hindi mean =\",mean6)\n",
        "mode6=data[\"hindi\"].mode()\n",
        "print(\"hindi mode =\",mode6)\n",
        "median6=data[\"hindi\"].median()\n",
        "print(\"hindi median =\",median6)\n",
        "import pandas as pd\n",
        "import matplotlib.pyplot as plt\n",
        "axs=data.plot.bar(figsize=(10,10))\n",
        "plt.show()"
      ],
      "metadata": {
        "colab": {
          "base_uri": "https://localhost:8080/",
          "height": 1000
        },
        "id": "S1iKNSLZWC-t",
        "outputId": "a06fed5f-403f-4aa6-9925-d4bb7e2c2f7e"
      },
      "execution_count": null,
      "outputs": [
        {
          "output_type": "stream",
          "name": "stdout",
          "text": [
            "       name  maths  english  science  social  kannada  hindi\n",
            "0    ambika     35       30       40      46       45     34\n",
            "1    ankita     30       25       33      45       46     34\n",
            "2  anushree     40       45       43      24       47      6\n",
            "3     ketan     49       50       44      44       48      7\n",
            "4     vivek     48       48       23      35       49     43\n",
            "maths mean = 38.05\n",
            "maths mode = 50\n",
            "maths median = 35.0\n",
            "english mean = 37.75\n",
            "english mode = 50\n",
            "english median = 41.5\n",
            "science mean = 34.6\n",
            "science mode = 45\n",
            "science median = 33.5\n",
            "social mean = 40.7\n",
            "social mode = 50\n",
            "social median = 46.0\n",
            "kannada mean = 45.4\n",
            "kannada mode = 50\n",
            "kannada median = 47.0\n",
            "hindi mean = 33.0\n",
            "hindi mode = 0    34\n",
            "Name: hindi, dtype: int64\n",
            "hindi median = 34.0\n"
          ]
        },
        {
          "output_type": "display_data",
          "data": {
            "text/plain": [
              "<Figure size 1000x1000 with 1 Axes>"
            ],
            "image/png": "[encoded data removed]"
          },
          "metadata": {}
        }
      ]
    },
    {
      "cell_type": "code",
      "source": [
        "import random\n",
        "cnt=0\n",
        "co=0\n",
        "for i in range(5):\n",
        "  u=int(input(\"enter\"))\n",
        "  c = random.randint(1,10)\n",
        "  print(\"user\")\n",
        "  print(u)\n",
        "  print(\"comp\")\n",
        "  print(c)\n",
        "\n",
        "  if c > u:\n",
        "     cnt = cnt + 1\n",
        "     print(\"comp count\")\n",
        "     print(cnt)\n",
        "  elif (c<=u):\n",
        "    co = co + 1\n",
        "    print(\"user count\")\n",
        "    print(co)\n",
        "if(co>cnt):\n",
        "  print(\"user win\")\n",
        "else:\n",
        "  print(\"comp win\")"
      ],
      "metadata": {
        "colab": {
          "base_uri": "https://localhost:8080/"
        },
        "id": "W65ek5kGpj8G",
        "outputId": "b9e749df-745e-4519-ca94-d7046c2bc709"
      },
      "execution_count": null,
      "outputs": [
        {
          "output_type": "stream",
          "name": "stdout",
          "text": [
            "enter1\n",
            "user\n",
            "1\n",
            "comp\n",
            "7\n",
            "comp count\n",
            "1\n",
            "enter2\n",
            "user\n",
            "2\n",
            "comp\n",
            "1\n",
            "user count\n",
            "1\n",
            "enter1\n",
            "user\n",
            "1\n",
            "comp\n",
            "3\n",
            "comp count\n",
            "2\n",
            "enter2\n",
            "user\n",
            "2\n",
            "comp\n",
            "7\n",
            "comp count\n",
            "3\n",
            "enter3\n",
            "user\n",
            "3\n",
            "comp\n",
            "7\n",
            "comp count\n",
            "4\n",
            "comp win\n"
          ]
        }
      ]
    },
    {
      "cell_type": "code",
      "source": [
        "import pandas as pd\n",
        "import matplotlib.pyplot as plt\n",
        "import numpy as np\n",
        "\n",
        "data=pd.read_csv('/content/drive/MyDrive/record.csv')\n",
        "print(data.head())\n",
        "mean1=data[\"Assignment1\"].mean()\n",
        "print(\"Assignment1 mean=\",mean1)\n",
        "\n",
        "mode1=data[\"Assignment1\"].max()\n",
        "print(\"Assignment1 mode=\",mode1)\n",
        "\n",
        "median1=data[\"Assignment1\"].median()\n",
        "print(\"Assignment1 median=\",median1)\n",
        "print(\"\\n\")\n",
        "mean2=data[\"Assignment2\"].mean()\n",
        "print(\"Assignment2 mean=\",mean2)\n",
        "\n",
        "mode2=data[\"Assignment2\"].max()\n",
        "print(\"Assignment2 mode=\",mode2)\n",
        "\n",
        "median2=data[\"Assignment2\"].median()\n",
        "print(\"Assignment2 median=\",median2)\n",
        "print(\"\\n\")\n",
        "mean3=data[\"Assignment3\"].mean()\n",
        "print(\"Assignment3 mean=\",mean2)\n",
        "\n",
        "mode3=data[\"Assignment3\"].max()\n",
        "print(\"Assignment3 mode=\",mode3)\n",
        "\n",
        "median3=data[\"Assignment3\"].median()\n",
        "print(\"Assignment3 median=\",median2)\n",
        "print(\"\\n\")\n",
        "mean4=data[\"Assignment4\"].mean()\n",
        "print(\"Assignment4 mean=\",mean2)\n",
        "\n",
        "mode4=data[\"Assignment4\"].max()\n",
        "print(\"Assignment4 mode=\",mode4)\n",
        "\n",
        "median4=data[\"Assignment4\"].median()\n",
        "print(\"Assignment4 median=\",median2)\n",
        "print(\"\\n\")\n",
        "mean5=data[\"Total\"].mean()\n",
        "print(\"Total mean=\",mean5)\n",
        "\n",
        "mode5=data[\"Total\"].max()\n",
        "print(\"Total mode=\",mode5)\n",
        "\n",
        "median5=data[\"Total\"].median()\n",
        "print(\"Total median=\",median5)\n",
        "print(\"\\n\")\n",
        "\n",
        "data.plot()\n",
        "plt.show()"
      ],
      "metadata": {
        "colab": {
          "base_uri": "https://localhost:8080/",
          "height": 968
        },
        "id": "TNczqU9K0Qtr",
        "outputId": "2259bdee-2da9-419a-fb6f-88a7c0e29540"
      },
      "execution_count": null,
      "outputs": [
        {
          "output_type": "stream",
          "name": "stdout",
          "text": [
            "  student Name  Assignment1  Assignment2  Assignment3  Assignment4  Total\n",
            "0          Ali           99           85           88           90    362\n",
            "1          Zia           23           56           45           65    189\n",
            "2       walton           34           76           56           76    242\n",
            "3        smith           45           76           79           78    278\n",
            "4        james           56           67           76           89    288\n",
            "Assignment1 mean= 50.1\n",
            "Assignment1 mode= 99\n",
            "Assignment1 median= 45.0\n",
            "\n",
            "\n",
            "Assignment2 mean= 66.0\n",
            "Assignment2 mode= 89\n",
            "Assignment2 median= 76.0\n",
            "\n",
            "\n",
            "Assignment3 mean= 66.0\n",
            "Assignment3 mode= 88\n",
            "Assignment3 median= 76.0\n",
            "\n",
            "\n",
            "Assignment4 mean= 66.0\n",
            "Assignment4 mode= 91\n",
            "Assignment4 median= 76.0\n",
            "\n",
            "\n",
            "Total mean= 237.8\n",
            "Total mode= 362\n",
            "Total median= 248.0\n",
            "\n",
            "\n"
          ]
        },
        {
          "output_type": "display_data",
          "data": {
            "text/plain": [
              "<Figure size 640x480 with 1 Axes>"
            ],
            "image/png": "[encoded data removed]"
          },
          "metadata": {}
        }
      ]
    },
    {
      "cell_type": "code",
      "source": [
        "import numpy as np\n",
        "data=np.array([[1,1,2,2],[2,3,4,4]])\n",
        "print(data)"
      ],
      "metadata": {
        "colab": {
          "base_uri": "https://localhost:8080/"
        },
        "id": "Z0fax9WOn0bS",
        "outputId": "36971deb-e9d9-4bca-bf84-aa9d2123f241"
      },
      "execution_count": null,
      "outputs": [
        {
          "output_type": "stream",
          "name": "stdout",
          "text": [
            "[[1 1 2 2]\n",
            " [2 3 4 4]]\n"
          ]
        }
      ]
    },
    {
      "cell_type": "code",
      "source": [
        "import numpy as np\n",
        "data=np.ones((5,5))\n",
        "print(data)\n",
        "d1=np.full((2,2),10)\n",
        "print(d1)\n",
        "d2=np.arange(10,50,10)\n",
        "print(d2)\n",
        "d3=np.random.randint(1,100,6)\n",
        "print(d3)\n",
        "\n",
        "\n",
        "d=np.array([[1,2,3],[4,5,6]])\n",
        "print(d)\n",
        "print(d.shape)\n",
        "d.shape=(3,2)\n",
        "print(d)\n"
      ],
      "metadata": {
        "colab": {
          "base_uri": "https://localhost:8080/"
        },
        "id": "2D7t9O1loBH0",
        "outputId": "5abf5626-41ab-487a-be2a-1bcd8cf8b9a3"
      },
      "execution_count": null,
      "outputs": [
        {
          "output_type": "stream",
          "name": "stdout",
          "text": [
            "[[1. 1. 1. 1. 1.]\n",
            " [1. 1. 1. 1. 1.]\n",
            " [1. 1. 1. 1. 1.]\n",
            " [1. 1. 1. 1. 1.]\n",
            " [1. 1. 1. 1. 1.]]\n",
            "[[10 10]\n",
            " [10 10]]\n",
            "[10 20 30 40]\n",
            "[62 70 54 94  1  3]\n",
            "[[1 2 3]\n",
            " [4 5 6]]\n",
            "(2, 3)\n",
            "[[1 2]\n",
            " [3 4]\n",
            " [5 6]]\n"
          ]
        }
      ]
    },
    {
      "cell_type": "code",
      "source": [
        "import numpy as np\n",
        "n1=np.array([1,2,3,4])\n",
        "n2=np.array([3,4,5,6])\n",
        "\n",
        "print(np.vstack((n1,n2)))\n",
        "print(np.hstack((n1,n2)))\n",
        "print(np.column_stack((n1,n2)))\n",
        "print(np.intersect1d(n1,n2))\n",
        "print(np.setdiff1d(n1,n2))\n",
        "print(np.setdiff1d(n2,n1))\n",
        "print(np.sum((n1,n2)))\n",
        "print(np.sum((n1,n2),axis=0))#vertical\n",
        "print(np.sum((n1,n2),axis=1))#horizontal"
      ],
      "metadata": {
        "colab": {
          "base_uri": "https://localhost:8080/"
        },
        "id": "3nJSDyvjoNyJ",
        "outputId": "74b0469f-10d7-458f-f16b-4b3e1745c25b"
      },
      "execution_count": null,
      "outputs": [
        {
          "output_type": "stream",
          "name": "stdout",
          "text": [
            "[[1 2 3 4]\n",
            " [3 4 5 6]]\n",
            "[1 2 3 4 3 4 5 6]\n",
            "[[1 3]\n",
            " [2 4]\n",
            " [3 5]\n",
            " [4 6]]\n",
            "[3 4]\n",
            "[1 2]\n",
            "[5 6]\n",
            "28\n",
            "[ 4  6  8 10]\n",
            "[10 18]\n"
          ]
        }
      ]
    },
    {
      "cell_type": "code",
      "source": [
        "import numpy as np\n",
        "n1=np.array([1,2,3,4])\n",
        "print(n1)\n",
        "n1=n1+1\n",
        "print(n1)\n",
        "n1=n1*2\n",
        "print(n1)\n",
        "n1=n1-1\n",
        "print(n1)\n",
        "n1=n1/2\n",
        "print(n1)\n"
      ],
      "metadata": {
        "colab": {
          "base_uri": "https://localhost:8080/"
        },
        "id": "hQo0gM3IsUao",
        "outputId": "12316329-cfbe-4bf8-c643-ac85f390c668"
      },
      "execution_count": null,
      "outputs": [
        {
          "output_type": "stream",
          "name": "stdout",
          "text": [
            "[1 2 3 4]\n",
            "[2 3 4 5]\n",
            "[ 4  6  8 10]\n",
            "[3 5 7 9]\n",
            "[1.5 2.5 3.5 4.5]\n"
          ]
        }
      ]
    },
    {
      "cell_type": "code",
      "source": [
        "import numpy as np\n",
        "n1=np.array([2,4,5,6])\n",
        "print(np.mean(n1))\n",
        "print(np.median(n1))\n",
        "print(np.std(n1))\n",
        "print(np.max(n1))"
      ],
      "metadata": {
        "colab": {
          "base_uri": "https://localhost:8080/"
        },
        "id": "IFpu0oYJvnEg",
        "outputId": "5c26d1d9-8581-44a6-bbc7-07ef45e6a28b"
      },
      "execution_count": null,
      "outputs": [
        {
          "output_type": "stream",
          "name": "stdout",
          "text": [
            "4.25\n",
            "4.5\n",
            "1.479019945774904\n",
            "6\n"
          ]
        }
      ]
    },
    {
      "cell_type": "code",
      "source": [
        "import numpy as np\n",
        "n1=([0,1,10,100,1000,10000,100000])\n",
        "np.save(\"final_numpy\",n1)\n",
        "n2=np.load(\"final_numpy.npy\")\n",
        "print(n2)"
      ],
      "metadata": {
        "colab": {
          "base_uri": "https://localhost:8080/"
        },
        "id": "TOaxAGi3wDpW",
        "outputId": "d404f173-4c5a-4138-a4d1-491a9b561324"
      },
      "execution_count": null,
      "outputs": [
        {
          "output_type": "stream",
          "name": "stdout",
          "text": [
            "[     0      1     10    100   1000  10000 100000]\n"
          ]
        }
      ]
    },
    {
      "cell_type": "code",
      "source": [
        "import pandas as pd\n",
        "s1=pd.Series([1,2,3,4,5,7])\n",
        "print(s1)"
      ],
      "metadata": {
        "colab": {
          "base_uri": "https://localhost:8080/"
        },
        "id": "duEesWn1xisP",
        "outputId": "288b902c-2c8f-4c9b-d97d-c4884e4dc974"
      },
      "execution_count": null,
      "outputs": [
        {
          "output_type": "stream",
          "name": "stdout",
          "text": [
            "0    1\n",
            "1    2\n",
            "2    3\n",
            "3    4\n",
            "4    5\n",
            "5    7\n",
            "dtype: int64\n"
          ]
        }
      ]
    },
    {
      "cell_type": "code",
      "source": [
        "import pandas as pd\n",
        "s2=pd.Series({'a':1,'b':2,'c':3,'d':4})\n",
        "print(s2)"
      ],
      "metadata": {
        "colab": {
          "base_uri": "https://localhost:8080/"
        },
        "id": "Dv_92282ymZ1",
        "outputId": "6967d43e-8097-4bff-a00e-7df6a02c9ccc"
      },
      "execution_count": null,
      "outputs": [
        {
          "output_type": "stream",
          "name": "stdout",
          "text": [
            "a    1\n",
            "b    2\n",
            "c    3\n",
            "d    4\n",
            "dtype: int64\n"
          ]
        }
      ]
    },
    {
      "cell_type": "code",
      "source": [
        "import pandas as pd\n",
        "s1=pd.Series([1,2,3,4,5,7],index=('a','b','c','d','e','f'))\n",
        "print(s1)\n",
        "print(s1[3])\n",
        "print(s1[:3])#print first 3 element\n",
        "print(s1[-3:])#print last 3 element"
      ],
      "metadata": {
        "colab": {
          "base_uri": "https://localhost:8080/"
        },
        "id": "ULnB0nWA2IUs",
        "outputId": "fcf531de-2acd-4062-c66c-6f9db1e829a0"
      },
      "execution_count": null,
      "outputs": [
        {
          "output_type": "stream",
          "name": "stdout",
          "text": [
            "a    1\n",
            "b    2\n",
            "c    3\n",
            "d    4\n",
            "e    5\n",
            "f    7\n",
            "dtype: int64\n",
            "4\n",
            "a    1\n",
            "b    2\n",
            "c    3\n",
            "dtype: int64\n",
            "d    4\n",
            "e    5\n",
            "f    7\n",
            "dtype: int64\n"
          ]
        }
      ]
    },
    {
      "cell_type": "code",
      "source": [
        "import pandas as pd\n",
        "s1=pd.Series([1,2,3,4])\n",
        "s2=pd.Series([2,3,4,5])\n",
        "print(s1+4)\n",
        "print(s1+s2)\n",
        "print(s1-s2)"
      ],
      "metadata": {
        "colab": {
          "base_uri": "https://localhost:8080/"
        },
        "id": "45ClT37L2hxn",
        "outputId": "4e94ff71-541a-41ad-b20b-8dfd331643d1"
      },
      "execution_count": null,
      "outputs": [
        {
          "output_type": "stream",
          "name": "stdout",
          "text": [
            "0    5\n",
            "1    6\n",
            "2    7\n",
            "3    8\n",
            "dtype: int64\n",
            "0    3\n",
            "1    5\n",
            "2    7\n",
            "3    9\n",
            "dtype: int64\n",
            "0   -1\n",
            "1   -1\n",
            "2   -1\n",
            "3   -1\n",
            "dtype: int64\n"
          ]
        }
      ]
    },
    {
      "cell_type": "code",
      "source": [
        "#DATA FRAMES\n",
        "import pandas as pd\n",
        "def half(s):\n",
        " return s*0.5\n",
        "d=pd.DataFrame({\"NAME\":[\"RAK\",\"SAM\",\"JO\",\"JACK\",\"ANTONY\"],\"MARKS\":[50,30,40,50,20]})\n",
        "print(d)\n",
        "print(d[['MARKS']].apply(half))#which helps to reduce the values to half\n",
        "print(d['MARKS'].value_counts())#COUNTS HOW MANY TIMES REPEATED\n",
        "print(d.sort_values(by='MARKS'))#sorts the values"
      ],
      "metadata": {
        "colab": {
          "base_uri": "https://localhost:8080/"
        },
        "id": "ypcsHXUV4kLF",
        "outputId": "d094118e-1867-446a-b9e3-9f683a86280a"
      },
      "execution_count": null,
      "outputs": [
        {
          "output_type": "stream",
          "name": "stdout",
          "text": [
            "     NAME  MARKS\n",
            "0     RAK     50\n",
            "1     SAM     30\n",
            "2      JO     40\n",
            "3    JACK     50\n",
            "4  ANTONY     20\n",
            "   MARKS\n",
            "0   25.0\n",
            "1   15.0\n",
            "2   20.0\n",
            "3   25.0\n",
            "4   10.0\n",
            "50    2\n",
            "30    1\n",
            "40    1\n",
            "20    1\n",
            "Name: MARKS, dtype: int64\n",
            "     NAME  MARKS\n",
            "4  ANTONY     20\n",
            "1     SAM     30\n",
            "2      JO     40\n",
            "0     RAK     50\n",
            "3    JACK     50\n"
          ]
        }
      ]
    },
    {
      "cell_type": "code",
      "source": [
        "import pandas as pd\n",
        "d=pd.read_csv(\"/content/sample_data/mnist_test.csv\")\n",
        "print(d.head())\n",
        "print(d.tail())\n",
        "print(d.shape)\n",
        "print(d.describe())\n",
        "print(d.iloc[0:3,0:2])#3 rows and 2 columns\n",
        "#d.drop('sepal length',axis=1) to delete column\n",
        "#axis=0 to delete rows\n",
        "#drop([1,2],axis=0)"
      ],
      "metadata": {
        "id": "0hzvHeO37VTP",
        "colab": {
          "base_uri": "https://localhost:8080/"
        },
        "outputId": "b2d62283-9341-4be1-e3fb-c35f5a345018"
      },
      "execution_count": null,
      "outputs": [
        {
          "output_type": "stream",
          "name": "stdout",
          "text": [
            "   7  0  0.1  0.2  0.3  0.4  0.5  0.6  0.7  0.8  ...  0.658  0.659  0.660  \\\n",
            "0  2  0    0    0    0    0    0    0    0    0  ...      0      0      0   \n",
            "1  1  0    0    0    0    0    0    0    0    0  ...      0      0      0   \n",
            "2  0  0    0    0    0    0    0    0    0    0  ...      0      0      0   \n",
            "3  4  0    0    0    0    0    0    0    0    0  ...      0      0      0   \n",
            "4  1  0    0    0    0    0    0    0    0    0  ...      0      0      0   \n",
            "\n",
            "   0.661  0.662  0.663  0.664  0.665  0.666  0.667  \n",
            "0      0      0      0      0      0      0      0  \n",
            "1      0      0      0      0      0      0      0  \n",
            "2      0      0      0      0      0      0      0  \n",
            "3      0      0      0      0      0      0      0  \n",
            "4      0      0      0      0      0      0      0  \n",
            "\n",
            "[5 rows x 785 columns]\n",
            "      7  0  0.1  0.2  0.3  0.4  0.5  0.6  0.7  0.8  ...  0.658  0.659  0.660  \\\n",
            "9994  2  0    0    0    0    0    0    0    0    0  ...      0      0      0   \n",
            "9995  3  0    0    0    0    0    0    0    0    0  ...      0      0      0   \n",
            "9996  4  0    0    0    0    0    0    0    0    0  ...      0      0      0   \n",
            "9997  5  0    0    0    0    0    0    0    0    0  ...      0      0      0   \n",
            "9998  6  0    0    0    0    0    0    0    0    0  ...      0      0      0   \n",
            "\n",
            "      0.661  0.662  0.663  0.664  0.665  0.666  0.667  \n",
            "9994      0      0      0      0      0      0      0  \n",
            "9995      0      0      0      0      0      0      0  \n",
            "9996      0      0      0      0      0      0      0  \n",
            "9997      0      0      0      0      0      0      0  \n",
            "9998      0      0      0      0      0      0      0  \n",
            "\n",
            "[5 rows x 785 columns]\n",
            "(9999, 785)\n",
            "                 7       0     0.1     0.2     0.3     0.4     0.5     0.6  \\\n",
            "count  9999.000000  9999.0  9999.0  9999.0  9999.0  9999.0  9999.0  9999.0   \n",
            "mean      4.443144     0.0     0.0     0.0     0.0     0.0     0.0     0.0   \n",
            "std       2.895897     0.0     0.0     0.0     0.0     0.0     0.0     0.0   \n",
            "min       0.000000     0.0     0.0     0.0     0.0     0.0     0.0     0.0   \n",
            "25%       2.000000     0.0     0.0     0.0     0.0     0.0     0.0     0.0   \n",
            "50%       4.000000     0.0     0.0     0.0     0.0     0.0     0.0     0.0   \n",
            "75%       7.000000     0.0     0.0     0.0     0.0     0.0     0.0     0.0   \n",
            "max       9.000000     0.0     0.0     0.0     0.0     0.0     0.0     0.0   \n",
            "\n",
            "          0.7     0.8  ...        0.658        0.659        0.660  \\\n",
            "count  9999.0  9999.0  ...  9999.000000  9999.000000  9999.000000   \n",
            "mean      0.0     0.0  ...     0.179318     0.163616     0.052605   \n",
            "std       0.0     0.0  ...     5.674433     5.736359     2.420125   \n",
            "min       0.0     0.0  ...     0.000000     0.000000     0.000000   \n",
            "25%       0.0     0.0  ...     0.000000     0.000000     0.000000   \n",
            "50%       0.0     0.0  ...     0.000000     0.000000     0.000000   \n",
            "75%       0.0     0.0  ...     0.000000     0.000000     0.000000   \n",
            "max       0.0     0.0  ...   253.000000   253.000000   156.000000   \n",
            "\n",
            "             0.661   0.662   0.663   0.664   0.665   0.666   0.667  \n",
            "count  9999.000000  9999.0  9999.0  9999.0  9999.0  9999.0  9999.0  \n",
            "mean      0.000600     0.0     0.0     0.0     0.0     0.0     0.0  \n",
            "std       0.060003     0.0     0.0     0.0     0.0     0.0     0.0  \n",
            "min       0.000000     0.0     0.0     0.0     0.0     0.0     0.0  \n",
            "25%       0.000000     0.0     0.0     0.0     0.0     0.0     0.0  \n",
            "50%       0.000000     0.0     0.0     0.0     0.0     0.0     0.0  \n",
            "75%       0.000000     0.0     0.0     0.0     0.0     0.0     0.0  \n",
            "max       6.000000     0.0     0.0     0.0     0.0     0.0     0.0  \n",
            "\n",
            "[8 rows x 785 columns]\n",
            "   7  0\n",
            "0  2  0\n",
            "1  1  0\n",
            "2  0  0\n"
          ]
        }
      ]
    },
    {
      "cell_type": "code",
      "source": [
        "import random\n",
        "def winner(a,b):\n",
        "    if(a=='s'):\n",
        "        if(b=='w'):\n",
        "            return 1\n",
        "        elif(b=='s'):\n",
        "            return 0\n",
        "        else:\n",
        "            return 2\n",
        "    elif(a=='w'):\n",
        "        if(b=='g'):\n",
        "            return 1\n",
        "        elif(b=='w'):\n",
        "            return 0\n",
        "        else:\n",
        "            return 2\n",
        "    elif(a=='g'):\n",
        "        if(b=='s'):\n",
        "            return 1\n",
        "        elif(b=='g'):\n",
        "            return 0\n",
        "        else:\n",
        "            return 2\n",
        "\n",
        "a=input(\"Enter player 1 choice Gun(g) water(w) Snake(s) \")\n",
        "randno=random.randint(1,3)\n",
        "if(randno==1):\n",
        "    b='g'\n",
        "elif(randno==2):\n",
        "    b='w'\n",
        "else:\n",
        "    b='s'\n",
        "print(f\"The choice of the player 1 was {a} \")\n",
        "print(f\"The choice of the computer was {b} \")\n",
        "if(a=='w' or a=='g' or a=='s'):\n",
        "    if(b=='w' or b=='g' or b=='s'):\n",
        "        m=winner(a,b)\n",
        "        if(m==1):\n",
        "             print(\"Player 1 won the game \")\n",
        "        elif(m==2):\n",
        "            print(\"Player 2 won the game \")\n",
        "        else:\n",
        "            print(\"Draw\")\n",
        "    else:\n",
        "        print(\"Invalid choice entered \")\n",
        "else:\n",
        "    print(\"Invalid choice entered \")\n"
      ],
      "metadata": {
        "colab": {
          "base_uri": "https://localhost:8080/"
        },
        "id": "Thnp7cFz7oWK",
        "outputId": "3acd4663-63b3-47d8-bbce-b3d305de217f"
      },
      "execution_count": null,
      "outputs": [
        {
          "output_type": "stream",
          "name": "stdout",
          "text": [
            "Enter player 1 choice Gun(g) water(w) Snake(s) \n",
            "The choice of the player 1 was  \n",
            "The choice of the computer was g \n",
            "Invalid choice entered \n"
          ]
        }
      ]
    },
    {
      "cell_type": "code",
      "source": [
        "import pandas as pd\n",
        "import matplotlib.pyplot as plt\n",
        "d=pd.DataFrame({\"COMP\":[1,2,2,3,4,4,4,4,4],\"USER\":[0,0,1,1,1,2,3,4,5]})\n",
        "print(d)\n",
        "d.plot()\n",
        "plt.show()"
      ],
      "metadata": {
        "id": "M-vW3yimKNvq",
        "colab": {
          "base_uri": "https://localhost:8080/",
          "height": 604
        },
        "outputId": "fb0a0be9-429a-4410-9468-34d6d7652d00"
      },
      "execution_count": null,
      "outputs": [
        {
          "output_type": "stream",
          "name": "stdout",
          "text": [
            "   COMP  USER\n",
            "0     1     0\n",
            "1     2     0\n",
            "2     2     1\n",
            "3     3     1\n",
            "4     4     1\n",
            "5     4     2\n",
            "6     4     3\n",
            "7     4     4\n",
            "8     4     5\n"
          ]
        },
        {
          "output_type": "display_data",
          "data": {
            "text/plain": [
              "<Figure size 640x480 with 1 Axes>"
            ],
            "image/png": "[encoded data removed]"
          },
          "metadata": {}
        }
      ]
    },
    {
      "cell_type": "code",
      "source": [
        "import pandas as pd\n",
        "df=pd.read_csv('/content/drive/MyDrive/data1.csv')\n",
        "print(df)\n",
        "import pandas as pd\n",
        "df=pd.read_csv('/content/drive/MyDrive/data1.csv')\n",
        "mean1=df['salary'].mean()\n",
        "median1=df['salary'].median()\n",
        "mode1=df['country'].mode()\n",
        "print('mode country:'+str(mode1))\n",
        "print('mean salary: '+str(mean1))\n",
        "print('median salary : '+str(median1))\n",
        "import pandas as pd\n",
        "import matplotlib.pyplot as plt\n",
        "def addlabels(x,y):\n",
        "  for i in range(len(x)):\n",
        "    plt.text(i,y[i],y[i])\n",
        "df=pd.read_csv('/content/drive/MyDrive/data1.csv')\n",
        "print(df)\n",
        "print(\"\\nmean1: \")\n",
        "print(df['salary'].mean())\n",
        "print(\"\\n median1 : \")\n",
        "print(df['salary'].median())\n",
        "print(\"\\n mode1 : \")\n",
        "print(df['country'].mode())\n",
        "x=df['country']\n",
        "y=df['salary']\n",
        "plt.bar(x,y,color=['red','green','blue','orange','pink','black','gray','brown','yellow'])\n",
        "plt.xlabel(\"country\")\n",
        "plt.ylabel(\"salary\")\n",
        "addlabels(x,y)\n",
        "plt.show()"
      ],
      "metadata": {
        "colab": {
          "base_uri": "https://localhost:8080/",
          "height": 1000
        },
        "id": "8AtbrmUBeC86",
        "outputId": "f7a9114d-e4b5-4dcc-fb49-0bbe28f65e08"
      },
      "execution_count": null,
      "outputs": [
        {
          "output_type": "stream",
          "name": "stdout",
          "text": [
            "     person  salary    country\n",
            "0      Ravi   40000      India\n",
            "1      Ramu   42000        USA\n",
            "2   Shankar   45000      Italy\n",
            "3    Sunita   38000     Brazil\n",
            "4     Sahan   39000  Sri lanka\n",
            "5  Sinchana   42000     Africa\n",
            "6   sheetal   41000  Australia\n",
            "7    Kusuma   37000      China\n",
            "8   Rachana   44000      Japan\n",
            "mode country:0       Africa\n",
            "1    Australia\n",
            "2       Brazil\n",
            "3        China\n",
            "4        India\n",
            "5        Italy\n",
            "6        Japan\n",
            "7    Sri lanka\n",
            "8          USA\n",
            "Name: country, dtype: object\n",
            "mean salary: 40888.88888888889\n",
            "median salary : 41000.0\n",
            "     person  salary    country\n",
            "0      Ravi   40000      India\n",
            "1      Ramu   42000        USA\n",
            "2   Shankar   45000      Italy\n",
            "3    Sunita   38000     Brazil\n",
            "4     Sahan   39000  Sri lanka\n",
            "5  Sinchana   42000     Africa\n",
            "6   sheetal   41000  Australia\n",
            "7    Kusuma   37000      China\n",
            "8   Rachana   44000      Japan\n",
            "\n",
            "mean1: \n",
            "40888.88888888889\n",
            "\n",
            " median1 : \n",
            "41000.0\n",
            "\n",
            " mode1 : \n",
            "0       Africa\n",
            "1    Australia\n",
            "2       Brazil\n",
            "3        China\n",
            "4        India\n",
            "5        Italy\n",
            "6        Japan\n",
            "7    Sri lanka\n",
            "8          USA\n",
            "Name: country, dtype: object\n"
          ]
        },
        {
          "output_type": "display_data",
          "data": {
            "text/plain": [
              "<Figure size 640x480 with 1 Axes>"
            ],
            "image/png": "[encoded data removed]"
          },
          "metadata": {}
        }
      ]
    },
    {
      "cell_type": "code",
      "source": [
        "import pandas as pd\n",
        "import matplotlib.pyplot as plt\n",
        "import numpy as np\n",
        "data=pd.read_csv(\"/content/drive/MyDrive/data (1).csv\")\n",
        "print(data.head())\n",
        "mode1=data[\"maths\"].mode()\n",
        "print(mode1)\n",
        "import pandas as pd\n",
        "import matplotlib.pyplot as plt\n",
        "a=data.plot.bar(figsize=(10,10))\n",
        "plt.show()"
      ],
      "metadata": {
        "id": "AyedNUme7TLM",
        "colab": {
          "base_uri": "https://localhost:8080/",
          "height": 990
        },
        "outputId": "53be3d4f-b818-4022-e8d5-a9f6c55afbdc"
      },
      "execution_count": null,
      "outputs": [
        {
          "output_type": "stream",
          "name": "stdout",
          "text": [
            "       name  maths  english  social\n",
            "0    ambika   35.0     30.0      40\n",
            "1    ankita   30.0     25.0      33\n",
            "2  anushree   40.0     50.0      43\n",
            "3     ketan   49.0     50.0      44\n",
            "4     vivek   48.0     48.0      30\n",
            "0    40.0\n",
            "1    48.0\n",
            "Name: maths, dtype: float64\n"
          ]
        },
        {
          "output_type": "display_data",
          "data": {
            "text/plain": [
              "<Figure size 1000x1000 with 1 Axes>"
            ],
            "image/png": "[encoded data removed]"
          },
          "metadata": {}
        }
      ]
    },
    {
      "cell_type": "code",
      "source": [
        "data.mean()"
      ],
      "metadata": {
        "colab": {
          "base_uri": "https://localhost:8080/"
        },
        "id": "vGL15_Fyc4ub",
        "outputId": "40aeb90b-34de-463c-8a3f-03427e7257ce"
      },
      "execution_count": null,
      "outputs": [
        {
          "output_type": "stream",
          "name": "stderr",
          "text": [
            "<ipython-input-19-abc01cf6c622>:1: FutureWarning: The default value of numeric_only in DataFrame.mean is deprecated. In a future version, it will default to False. In addition, specifying 'numeric_only=None' is deprecated. Select only valid columns or specify the value of numeric_only to silence this warning.\n",
            "  data.mean()\n"
          ]
        },
        {
          "output_type": "execute_result",
          "data": {
            "text/plain": [
              "maths      41.875\n",
              "english    43.625\n",
              "dtype: float64"
            ]
          },
          "metadata": {},
          "execution_count": 19
        }
      ]
    },
    {
      "cell_type": "code",
      "source": [
        "data.median()"
      ],
      "metadata": {
        "colab": {
          "base_uri": "https://localhost:8080/"
        },
        "id": "VUn_320_hNFO",
        "outputId": "9e19ad74-94b0-4e14-fb78-d7eff8f352a6"
      },
      "execution_count": null,
      "outputs": [
        {
          "output_type": "stream",
          "name": "stderr",
          "text": [
            "<ipython-input-20-135339ac59ce>:1: FutureWarning: The default value of numeric_only in DataFrame.median is deprecated. In a future version, it will default to False. In addition, specifying 'numeric_only=None' is deprecated. Select only valid columns or specify the value of numeric_only to silence this warning.\n",
            "  data.median()\n"
          ]
        },
        {
          "output_type": "execute_result",
          "data": {
            "text/plain": [
              "maths      42.5\n",
              "english    49.0\n",
              "dtype: float64"
            ]
          },
          "metadata": {},
          "execution_count": 20
        }
      ]
    },
    {
      "cell_type": "code",
      "source": [
        "data.mode()"
      ],
      "metadata": {
        "colab": {
          "base_uri": "https://localhost:8080/",
          "height": 300
        },
        "id": "d5ZxQbsghZOj",
        "outputId": "e3eed630-5431-4ce0-b8ad-704331497d47"
      },
      "execution_count": null,
      "outputs": [
        {
          "output_type": "execute_result",
          "data": {
            "text/plain": [
              "       name  maths  english  social\n",
              "0    ambika   40.0     50.0      33\n",
              "1    ankita   48.0      NaN      43\n",
              "2  anushree    NaN      NaN     NaN\n",
              "3    harsha    NaN      NaN     NaN\n",
              "4     ketan    NaN      NaN     NaN\n",
              "5    meenaz    NaN      NaN     NaN\n",
              "6      suma    NaN      NaN     NaN\n",
              "7     vivek    NaN      NaN     NaN"
            ],
            "text/html": [
              "\n",
              "  <div id=\"df-a9498f58-60dd-4057-94e8-f9beedfffd7c\" class=\"colab-df-container\">\n",
              "    <div>\n",
              "<style scoped>\n",
              "    .dataframe tbody tr th:only-of-type {\n",
              "        vertical-align: middle;\n",
              "    }\n",
              "\n",
              "    .dataframe tbody tr th {\n",
              "        vertical-align: top;\n",
              "    }\n",
              "\n",
              "    .dataframe thead th {\n",
              "        text-align: right;\n",
              "    }\n",
              "</style>\n",
              "<table border=\"1\" class=\"dataframe\">\n",
              "  <thead>\n",
              "    <tr style=\"text-align: right;\">\n",
              "      <th></th>\n",
              "      <th>name</th>\n",
              "      <th>maths</th>\n",
              "      <th>english</th>\n",
              "      <th>social</th>\n",
              "    </tr>\n",
              "  </thead>\n",
              "  <tbody>\n",
              "    <tr>\n",
              "      <th>0</th>\n",
              "      <td>ambika</td>\n",
              "      <td>40.0</td>\n",
              "      <td>50.0</td>\n",
              "      <td>33</td>\n",
              "    </tr>\n",
              "    <tr>\n",
              "      <th>1</th>\n",
              "      <td>ankita</td>\n",
              "      <td>48.0</td>\n",
              "      <td>NaN</td>\n",
              "      <td>43</td>\n",
              "    </tr>\n",
              "    <tr>\n",
              "      <th>2</th>\n",
              "      <td>anushree</td>\n",
              "      <td>NaN</td>\n",
              "      <td>NaN</td>\n",
              "      <td>NaN</td>\n",
              "    </tr>\n",
              "    <tr>\n",
              "      <th>3</th>\n",
              "      <td>harsha</td>\n",
              "      <td>NaN</td>\n",
              "      <td>NaN</td>\n",
              "      <td>NaN</td>\n",
              "    </tr>\n",
              "    <tr>\n",
              "      <th>4</th>\n",
              "      <td>ketan</td>\n",
              "      <td>NaN</td>\n",
              "      <td>NaN</td>\n",
              "      <td>NaN</td>\n",
              "    </tr>\n",
              "    <tr>\n",
              "      <th>5</th>\n",
              "      <td>meenaz</td>\n",
              "      <td>NaN</td>\n",
              "      <td>NaN</td>\n",
              "      <td>NaN</td>\n",
              "    </tr>\n",
              "    <tr>\n",
              "      <th>6</th>\n",
              "      <td>suma</td>\n",
              "      <td>NaN</td>\n",
              "      <td>NaN</td>\n",
              "      <td>NaN</td>\n",
              "    </tr>\n",
              "    <tr>\n",
              "      <th>7</th>\n",
              "      <td>vivek</td>\n",
              "      <td>NaN</td>\n",
              "      <td>NaN</td>\n",
              "      <td>NaN</td>\n",
              "    </tr>\n",
              "  </tbody>\n",
              "</table>\n",
              "</div>\n",
              "    <div class=\"colab-df-buttons\">\n",
              "\n",
              "  <div class=\"colab-df-container\">\n",
              "    <button class=\"colab-df-convert\" onclick=\"convertToInteractive('df-a9498f58-60dd-4057-94e8-f9beedfffd7c')\"\n",
              "            title=\"Convert this dataframe to an interactive table.\"\n",
              "            style=\"display:none;\">\n",
              "\n",
              "  <svg xmlns=\"http://www.w3.org/2000/svg\" height=\"24px\" viewBox=\"0 -960 960 960\">\n",
              "    <path d=\"M120-120v-720h720v720H120Zm60-500h600v-160H180v160Zm220 220h160v-160H400v160Zm0 220h160v-160H400v160ZM180-400h160v-160H180v160Zm440 0h160v-160H620v160ZM180-180h160v-160H180v160Zm440 0h160v-160H620v160Z\"/>\n",
              "  </svg>\n",
              "    </button>\n",
              "\n",
              "  <style>\n",
              "    .colab-df-container {\n",
              "      display:flex;\n",
              "      gap: 12px;\n",
              "    }\n",
              "\n",
              "    .colab-df-convert {\n",
              "      background-color: #E8F0FE;\n",
              "      border: none;\n",
              "      border-radius: 50%;\n",
              "      cursor: pointer;\n",
              "      display: none;\n",
              "      fill: #1967D2;\n",
              "      height: 32px;\n",
              "      padding: 0 0 0 0;\n",
              "      width: 32px;\n",
              "    }\n",
              "\n",
              "    .colab-df-convert:hover {\n",
              "      background-color: #E2EBFA;\n",
              "      box-shadow: 0px 1px 2px rgba(60, 64, 67, 0.3), 0px 1px 3px 1px rgba(60, 64, 67, 0.15);\n",
              "      fill: #174EA6;\n",
              "    }\n",
              "\n",
              "    .colab-df-buttons div {\n",
              "      margin-bottom: 4px;\n",
              "    }\n",
              "\n",
              "    [theme=dark] .colab-df-convert {\n",
              "      background-color: #3B4455;\n",
              "      fill: #D2E3FC;\n",
              "    }\n",
              "\n",
              "    [theme=dark] .colab-df-convert:hover {\n",
              "      background-color: #434B5C;\n",
              "      box-shadow: 0px 1px 3px 1px rgba(0, 0, 0, 0.15);\n",
              "      filter: drop-shadow(0px 1px 2px rgba(0, 0, 0, 0.3));\n",
              "      fill: #FFFFFF;\n",
              "    }\n",
              "  </style>\n",
              "\n",
              "    <script>\n",
              "      const buttonEl =\n",
              "        document.querySelector('#df-a9498f58-60dd-4057-94e8-f9beedfffd7c button.colab-df-convert');\n",
              "      buttonEl.style.display =\n",
              "        google.colab.kernel.accessAllowed ? 'block' : 'none';\n",
              "\n",
              "      async function convertToInteractive(key) {\n",
              "        const element = document.querySelector('#df-a9498f58-60dd-4057-94e8-f9beedfffd7c');\n",
              "        const dataTable =\n",
              "          await google.colab.kernel.invokeFunction('convertToInteractive',\n",
              "                                                    [key], {});\n",
              "        if (!dataTable) return;\n",
              "\n",
              "        const docLinkHtml = 'Like what you see? Visit the ' +\n",
              "          '<a target=\"_blank\" href=https://colab.research.google.com/notebooks/data_table.ipynb>data table notebook</a>'\n",
              "          + ' to learn more about interactive tables.';\n",
              "        element.innerHTML = '';\n",
              "        dataTable['output_type'] = 'display_data';\n",
              "        await google.colab.output.renderOutput(dataTable, element);\n",
              "        const docLink = document.createElement('div');\n",
              "        docLink.innerHTML = docLinkHtml;\n",
              "        element.appendChild(docLink);\n",
              "      }\n",
              "    </script>\n",
              "  </div>\n",
              "\n",
              "\n",
              "<div id=\"df-b9239667-4538-4878-b20c-080ac1cf0837\">\n",
              "  <button class=\"colab-df-quickchart\" onclick=\"quickchart('df-b9239667-4538-4878-b20c-080ac1cf0837')\"\n",
              "            title=\"Suggest charts.\"\n",
              "            style=\"display:none;\">\n",
              "\n",
              "<svg xmlns=\"http://www.w3.org/2000/svg\" height=\"24px\"viewBox=\"0 0 24 24\"\n",
              "     width=\"24px\">\n",
              "    <g>\n",
              "        <path d=\"M19 3H5c-1.1 0-2 .9-2 2v14c0 1.1.9 2 2 2h14c1.1 0 2-.9 2-2V5c0-1.1-.9-2-2-2zM9 17H7v-7h2v7zm4 0h-2V7h2v10zm4 0h-2v-4h2v4z\"/>\n",
              "    </g>\n",
              "</svg>\n",
              "  </button>\n",
              "\n",
              "<style>\n",
              "  .colab-df-quickchart {\n",
              "    background-color: #E8F0FE;\n",
              "    border: none;\n",
              "    border-radius: 50%;\n",
              "    cursor: pointer;\n",
              "    display: none;\n",
              "    fill: #1967D2;\n",
              "    height: 32px;\n",
              "    padding: 0 0 0 0;\n",
              "    width: 32px;\n",
              "  }\n",
              "\n",
              "  .colab-df-quickchart:hover {\n",
              "    background-color: #E2EBFA;\n",
              "    box-shadow: 0px 1px 2px rgba(60, 64, 67, 0.3), 0px 1px 3px 1px rgba(60, 64, 67, 0.15);\n",
              "    fill: #174EA6;\n",
              "  }\n",
              "\n",
              "  [theme=dark] .colab-df-quickchart {\n",
              "    background-color: #3B4455;\n",
              "    fill: #D2E3FC;\n",
              "  }\n",
              "\n",
              "  [theme=dark] .colab-df-quickchart:hover {\n",
              "    background-color: #434B5C;\n",
              "    box-shadow: 0px 1px 3px 1px rgba(0, 0, 0, 0.15);\n",
              "    filter: drop-shadow(0px 1px 2px rgba(0, 0, 0, 0.3));\n",
              "    fill: #FFFFFF;\n",
              "  }\n",
              "</style>\n",
              "\n",
              "  <script>\n",
              "    async function quickchart(key) {\n",
              "      const charts = await google.colab.kernel.invokeFunction(\n",
              "          'suggestCharts', [key], {});\n",
              "    }\n",
              "    (() => {\n",
              "      let quickchartButtonEl =\n",
              "        document.querySelector('#df-b9239667-4538-4878-b20c-080ac1cf0837 button');\n",
              "      quickchartButtonEl.style.display =\n",
              "        google.colab.kernel.accessAllowed ? 'block' : 'none';\n",
              "    })();\n",
              "  </script>\n",
              "</div>\n",
              "    </div>\n",
              "  </div>\n"
            ]
          },
          "metadata": {},
          "execution_count": 21
        }
      ]
    },
    {
      "cell_type": "code",
      "source": [
        "a=int(input(\"Enter your nummber \"))\n",
        "k=0\n",
        "for i in range(2,a-1):\n",
        "  if(a%i==0):\n",
        "    k=-1\n",
        "    break\n",
        "if(k==-1):\n",
        "  if(a%3==0):\n",
        "    print(f\"The given number {a} is divisible by 3 and 9 \")\n",
        "  elif(a%7==0):\n",
        "    print(f\"The given number {a} is divisible by 7 \")\n",
        "  elif(a%11==0):\n",
        "     print(f\"The given number {a} is divisible by 11 \")\n",
        "  else:\n",
        "    print(\"The number isnt divisble by 3,7,9 or 11 \")\n",
        "else:\n",
        "   print(f\"The given number {a} is a prime number \")"
      ],
      "metadata": {
        "id": "sZi0xfpbwEOg",
        "colab": {
          "base_uri": "https://localhost:8080/"
        },
        "outputId": "26d23bc4-f62b-47ab-efe2-9c4b3063a444"
      },
      "execution_count": null,
      "outputs": [
        {
          "output_type": "stream",
          "name": "stdout",
          "text": [
            "Enter your nummber 2\n",
            "The given number 2 is a prime number \n"
          ]
        }
      ]
    },
    {
      "cell_type": "code",
      "source": [
        "pos=1\n",
        "word=input(\"Enter the string \")\n",
        "a=len(word)\n",
        "for i in range(a):\n",
        "  if(word[i]!=word[a-i-1]):\n",
        "    m=0\n",
        "    break\n",
        "if(m==0):\n",
        "  print(\"isnt palindrme\")\n",
        "else:\n",
        "  print(\" palindrme\")\n",
        "\n"
      ],
      "metadata": {
        "colab": {
          "base_uri": "https://localhost:8080/"
        },
        "id": "dXkseEkdk7iu",
        "outputId": "922c8ce2-3142-44f8-8330-8362d509bf58"
      },
      "execution_count": null,
      "outputs": [
        {
          "output_type": "stream",
          "name": "stdout",
          "text": [
            "Enter the string abab\n",
            "The given string abab isnt a palindrme\n"
          ]
        }
      ]
    },
    {
      "cell_type": "code",
      "source": [
        "ol=[]\n",
        "el=[]\n",
        "for i in range(10):\n",
        "  k=int(input(\"Enter the number \"))\n",
        "  if(k%2==0):\n",
        "    el.append(k)\n",
        "  else:\n",
        "    ol.append(k)\n",
        "print(f\"The list of odd numbers is {ol}\")\n",
        "print(f\"The list of even numbers is {el}\")"
      ],
      "metadata": {
        "colab": {
          "base_uri": "https://localhost:8080/"
        },
        "id": "b6QcumyMpMfC",
        "outputId": "3483aee3-6dd4-4976-b3de-f8b4340d02d0"
      },
      "execution_count": null,
      "outputs": [
        {
          "output_type": "stream",
          "name": "stdout",
          "text": [
            "Enter the number 3\n",
            "Enter the number 5\n",
            "Enter the number 3\n",
            "Enter the number 3\n",
            "Enter the number 2\n",
            "Enter the number 2\n",
            "Enter the number 3\n",
            "Enter the number 6\n",
            "Enter the number 8\n",
            "Enter the number 9\n",
            "The list of odd numbers is [3, 5, 3, 3, 3, 9]\n",
            "The list of even numbers is [2, 2, 6, 8]\n"
          ]
        }
      ]
    },
    {
      "cell_type": "code",
      "source": [
        " k=int(input(\"Enter the value of rows \"))\n",
        "for i in range(k+1):\n",
        "  print(\"*\"*i)"
      ],
      "metadata": {
        "colab": {
          "base_uri": "https://localhost:8080/"
        },
        "id": "yvb-MFxypOuZ",
        "outputId": "425adabb-048a-4229-a31b-a6c546eaa587"
      },
      "execution_count": null,
      "outputs": [
        {
          "output_type": "stream",
          "name": "stdout",
          "text": [
            "Enter the value of rows 4\n",
            "\n",
            "*\n",
            "**\n",
            "***\n",
            "****\n"
          ]
        }
      ]
    },
    {
      "cell_type": "code",
      "source": [],
      "metadata": {
        "id": "UfpeUX2epUtP"
      },
      "execution_count": null,
      "outputs": []
    }
  ]
}